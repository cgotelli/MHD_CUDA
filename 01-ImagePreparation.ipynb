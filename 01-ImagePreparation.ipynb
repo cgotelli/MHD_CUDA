{
 "cells": [
  {
   "cell_type": "markdown",
   "id": "03ba846e-3a79-4584-9ec9-4dccd71e0700",
   "metadata": {},
   "source": [
    "# LESO - Image preparation for the MPS process"
   ]
  },
  {
   "cell_type": "markdown",
   "id": "b907e3c8-7ebe-403c-94d5-a8cfebb0deec",
   "metadata": {
    "jp-MarkdownHeadingCollapsed": true,
    "tags": []
   },
   "source": [
    "## Cropping Images\n",
    "Cortar las imágenes según la máscara para aislar el canal y eliminar todo el resto. La imagen se gira para enderezar el canal, luego se  corta para dejar el canal al centro y finalmente se convierte a negro todo lo que está por fuera del canal."
   ]
  },
  {
   "cell_type": "code",
   "execution_count": null,
   "id": "4d67efc7-d8a5-4cdc-b0d0-f52079f4653f",
   "metadata": {
    "tags": []
   },
   "outputs": [],
   "source": [
    "import os\n",
    "from PIL import Image, ImageChops\n",
    "import matplotlib.pyplot as plt"
   ]
  },
  {
   "cell_type": "markdown",
   "id": "cf5a3493-ee04-4c0c-adcf-d881f2dbdd1c",
   "metadata": {},
   "source": [
    "Carpetas donde están las imágenes originales, dónde guardarlas y dónde está guardada la máscara."
   ]
  },
  {
   "cell_type": "code",
   "execution_count": null,
   "id": "d30381b0-b285-4115-9403-ac20482d7805",
   "metadata": {
    "tags": []
   },
   "outputs": [],
   "source": [
    "# Folder containing the JPG images and the mask\n",
    "folder_path = r\"H:\\Experiment20_20240523\" # Where RAW images are stored\n",
    "output_folder_path = r\"E:\\Exp20\\cropped\"\n",
    "mask_path = r\"D:\\LESO\\DATA_RAW\"\n",
    "\n",
    "# Create the output folder if it doesn't exist\n",
    "if not os.path.exists(output_folder_path):\n",
    "    os.makedirs(output_folder_path)"
   ]
  },
  {
   "cell_type": "code",
   "execution_count": null,
   "id": "7fb775c1-4663-4b0b-b7fb-1f613c2e6b44",
   "metadata": {
    "tags": []
   },
   "outputs": [],
   "source": [
    "mask_filename = \"mask.png\"\n",
    "\n",
    "# List all JPG files in the folder\n",
    "jpg_files = [f for f in os.listdir(folder_path) if f.endswith(\".jpg\")]\n",
    "\n",
    "# Load the mask\n",
    "mask_path = os.path.join(mask_path, mask_filename)\n",
    "mask = Image.open(mask_path).convert(\"L\")  # Convert to grayscale\n",
    "mask = mask.rotate(3.6, expand=True, fillcolor=\"black\")"
   ]
  },
  {
   "cell_type": "markdown",
   "id": "a861e03b-1a3b-4b8e-8585-097e8c0517f6",
   "metadata": {},
   "source": [
    "Todas las imágenes de la carpeta de origen son cortadas y rotadas."
   ]
  },
  {
   "cell_type": "code",
   "execution_count": null,
   "id": "ddaf95d1-33ca-49b2-bcdb-ca498c7f514f",
   "metadata": {
    "tags": []
   },
   "outputs": [],
   "source": [
    "# Loop through each JPG file\n",
    "for jpg_file in jpg_files:\n",
    "    # Construct the full file path for the input image\n",
    "    input_image_path = os.path.join(folder_path, jpg_file)\n",
    "\n",
    "    # Open the input image using Pillow\n",
    "    input_image = Image.open(input_image_path)\n",
    "    input_image = input_image.rotate(-90, expand=True, fillcolor=\"black\")\n",
    "    \n",
    "    # Rotate the input image by 3.6 degrees counterclockwise\n",
    "    rotated_image = input_image.rotate(3.6, expand=True, fillcolor=\"black\")\n",
    "    \n",
    "    # Apply the mask to keep only the region of interest\n",
    "    result_image = ImageChops.multiply(\n",
    "        rotated_image.convert(\"RGB\"), mask.convert(\"RGB\")\n",
    "    )\n",
    "\n",
    "    # Find the bounding box of the non-black region in the inverted image\n",
    "    bbox = result_image.getbbox()\n",
    "    result_image = result_image.crop(bbox)\n",
    "\n",
    "    # Construct the file path for the cropped image in the output folder\n",
    "    output_image_path = os.path.join(output_folder_path, \"cropped_\" + jpg_file)\n",
    "\n",
    "    # Save the processed image in the output folder\n",
    "    result_image.save(output_image_path)\n",
    "\n",
    "    # Close the image files\n",
    "    input_image.close()\n",
    "    rotated_image.close()\n",
    "    result_image.close()\n",
    "    \n",
    "print(\"Image processing completed.\")"
   ]
  },
  {
   "cell_type": "markdown",
   "id": "a4505957-779a-4d60-8511-d948f8ffbe24",
   "metadata": {
    "jp-MarkdownHeadingCollapsed": true,
    "tags": []
   },
   "source": [
    "## Binary Image Creation - Color Thresholding \n",
    "Filtering using blue ink as indicator of water surface. The HSV space is the most suitable for this type of thresholding. MATLAB provides the theshold values with its Image Thresholding Toolbox."
   ]
  },
  {
   "cell_type": "code",
   "execution_count": null,
   "id": "0301104f-996e-4a07-800e-100f8b1de186",
   "metadata": {},
   "outputs": [],
   "source": [
    "import cv2\n",
    "import numpy as np\n",
    "import os\n",
    "\n",
    "# Convert MATLAB range to OpenCV range\n",
    "def convert_to_opencv_range(matlab_value, opencv_max):\n",
    "    return int(matlab_value * opencv_max)\n",
    "\n",
    "# Function to process an image and create a mask\n",
    "def process_image(image_path):\n",
    "    # Read the image\n",
    "    img = cv2.imread(image_path)\n",
    "    \n",
    "    # Convert the image to HSV\n",
    "    hsv_img = cv2.cvtColor(img, cv2.COLOR_BGR2HSV)\n",
    "    \n",
    "    # Create a mask using the inRange function\n",
    "    mask = cv2.inRange(hsv_img, lower_hsv, upper_hsv)\n",
    "    \n",
    "    return mask"
   ]
  },
  {
   "cell_type": "code",
   "execution_count": null,
   "id": "8138c7b0-ea48-4cfb-b8d6-2fa74e2df12b",
   "metadata": {},
   "outputs": [],
   "source": [
    "# All the water surface thresholds.\n",
    "# Define thresholds for channel 1 based on MATLAB settings\n",
    "# Define thresholds for channel 1 based on histogram settings\n",
    "channel1Min = 0.401;\n",
    "channel1Max = 0.662;\n",
    "\n",
    "# Define thresholds for channel 2 based on histogram settings\n",
    "channel2Min = 0.180;\n",
    "channel2Max = 1.000;\n",
    "\n",
    "# Define thresholds for channel 3 based on histogram settings\n",
    "channel3Min = 0.049;\n",
    "channel3Max = 1.000;\n",
    "\n",
    "\n",
    "# Convert MATLAB range to OpenCV range\n",
    "channel1Min_opencv = convert_to_opencv_range(channel1Min, 179)\n",
    "channel1Max_opencv = convert_to_opencv_range(channel1Max, 179)\n",
    "channel2Min_opencv = convert_to_opencv_range(channel2Min, 255)\n",
    "channel2Max_opencv = convert_to_opencv_range(channel2Max, 255)\n",
    "channel3Min_opencv = convert_to_opencv_range(channel3Min, 255)\n",
    "channel3Max_opencv = convert_to_opencv_range(channel3Max, 255)\n",
    "\n",
    "# channel1Min_opencv = 68\n",
    "# channel1Max_opencv = 109\n",
    "# channel2Min_opencv = 120\n",
    "# channel2Max_opencv = 255\n",
    "# channel3Min_opencv = 0\n",
    "# channel3Max_opencv = 255\n",
    "\n",
    "\n",
    "\n",
    "# Define HSV filter range\n",
    "lower_hsv = np.array([channel1Min_opencv, channel2Min_opencv, channel3Min_opencv])\n",
    "upper_hsv = np.array([channel1Max_opencv, channel2Max_opencv, channel3Max_opencv])\n",
    "\n",
    "# Process all JPG files in a folder\n",
    "folder_path = r\"E:\\Exp20\\cropped\"\n",
    "output_folder = r\"E:\\Exp20\\masked\\all\"\n",
    "\n",
    "# Ensure the output folder exists\n",
    "os.makedirs(output_folder, exist_ok=True)"
   ]
  },
  {
   "cell_type": "code",
   "execution_count": null,
   "id": "d5bc3776-410d-4c65-9e7a-51e3e6d04646",
   "metadata": {},
   "outputs": [],
   "source": [
    "# Loop through each file in the folder\n",
    "for filename in os.listdir(folder_path):\n",
    "    if filename.endswith(\".jpg\"):\n",
    "        # Create the full path to the input and output files\n",
    "        input_path = os.path.join(folder_path, filename)\n",
    "        output_path = os.path.join(output_folder, \"masked_\"+filename[8:])\n",
    "\n",
    "        # Process the image and save the result\n",
    "        mask = process_image(input_path)\n",
    "        cv2.imwrite(output_path, mask)\n",
    "        \n",
    "print(\"Masking process finished.\")"
   ]
  },
  {
   "cell_type": "markdown",
   "id": "15101f03-0292-4035-99b4-c1efee5f897f",
   "metadata": {
    "tags": []
   },
   "source": [
    "## Mask resize and other operations"
   ]
  },
  {
   "cell_type": "markdown",
   "id": "03579344-085a-4bd9-ba28-f49d9900e05a",
   "metadata": {
    "jp-MarkdownHeadingCollapsed": true,
    "tags": []
   },
   "source": [
    "### Only resizing"
   ]
  },
  {
   "cell_type": "code",
   "execution_count": null,
   "id": "a4759026-c93b-4801-8f4f-d2fe1e13b4aa",
   "metadata": {},
   "outputs": [],
   "source": [
    "import cv2\n",
    "import os\n",
    "\n",
    "# Function to resize an image while maintaining aspect ratio\n",
    "def resize_image(input_path, output_path, target_size):\n",
    "    # Read the image\n",
    "    img = cv2.imread(input_path)\n",
    "    \n",
    "    # Get the original image dimensions\n",
    "    height, width = img.shape[:2]\n",
    "\n",
    "    # Calculate the aspect ratio\n",
    "    aspect_ratio = width / height\n",
    "\n",
    "    # Calculate the new dimensions based on the target size and aspect ratio\n",
    "    if aspect_ratio > 1:\n",
    "        new_width = target_size\n",
    "        new_height = int(target_size / aspect_ratio)\n",
    "    else:\n",
    "        new_width = int(target_size * aspect_ratio)\n",
    "        new_height = target_size\n",
    "\n",
    "    # Resize the image\n",
    "    resized_img = cv2.resize(img, (new_width, new_height),interpolation = cv2.INTER_NEAREST)\n",
    "    \n",
    "\n",
    "    # Save the resized image\n",
    "    cv2.imwrite(output_path, resized_img)"
   ]
  },
  {
   "cell_type": "code",
   "execution_count": null,
   "id": "2a7327ac-bdc3-4e0b-a8ab-31ec5c2785a1",
   "metadata": {},
   "outputs": [],
   "source": [
    "# Process all JPG files in the input folder\n",
    "input_folder = r\"E:\\Exp20\\masked\\deepest\" #where the original-size masked images are stored.\n",
    "output_folder = r\"E:\\Exp20\\resized\\deepest\" #where to store the resized images\n",
    "target_size = 200  # Set your desired target size\n",
    "\n",
    "# Ensure the output folder exists\n",
    "os.makedirs(output_folder, exist_ok=True)\n",
    "\n",
    "# Loop through each file in the input folder\n",
    "for filename in os.listdir(input_folder):\n",
    "    if filename.endswith(\".jpg\"):\n",
    "        # Create the full path to the input and output files\n",
    "        input_path = os.path.join(input_folder, filename)\n",
    "        output_path = os.path.join(output_folder, \"resized_\"+filename[7:-4]+\".png\")\n",
    "        # Resize the image and save the result\n",
    "        resize_image(input_path, output_path, target_size)\n",
    "\n",
    "print(\"Resizing process finished.\")"
   ]
  },
  {
   "cell_type": "markdown",
   "id": "dd91d349-375c-4ca3-9cf8-3f97ad58482a",
   "metadata": {
    "jp-MarkdownHeadingCollapsed": true,
    "tags": []
   },
   "source": [
    "### Mask resize and inversion of color"
   ]
  },
  {
   "cell_type": "code",
   "execution_count": null,
   "id": "3da31da7-7e4a-40f4-897a-6e4ac6d48379",
   "metadata": {
    "tags": []
   },
   "outputs": [],
   "source": [
    "import cv2\n",
    "import os\n",
    "\n",
    "# Function to resize an image while maintaining aspect ratio and invert colors\n",
    "def resize_and_invert_image(input_path, output_path, target_size):\n",
    "    # Read the image\n",
    "    img = cv2.imread(input_path)\n",
    "    \n",
    "    # Get the original image dimensions\n",
    "    height, width = img.shape[:2]\n",
    "\n",
    "    # Calculate the aspect ratio\n",
    "    aspect_ratio = width / height\n",
    "\n",
    "    # Calculate the new dimensions based on the target size and aspect ratio\n",
    "    if aspect_ratio > 1:\n",
    "        new_width = target_size\n",
    "        new_height = int(target_size / aspect_ratio)\n",
    "    else:\n",
    "        new_width = int(target_size * aspect_ratio)\n",
    "        new_height = target_size\n",
    "\n",
    "    # Resize the image\n",
    "    resized_img = cv2.resize(img, (new_width, new_height), interpolation=cv2.INTER_NEAREST)\n",
    "    \n",
    "    # Invert the colors\n",
    "    inverted_img = 255 - resized_img\n",
    "\n",
    "    # Save the inverted image\n",
    "    cv2.imwrite(output_path, inverted_img)\n"
   ]
  },
  {
   "cell_type": "code",
   "execution_count": null,
   "id": "0f8a8d0c-b81c-4686-b258-e113bfb73e9c",
   "metadata": {},
   "outputs": [],
   "source": [
    "# Process all JPG files in the input folder\n",
    "input_folder = r\"E:\\Exp20\\masked\\deepest\" #where the original-size masked images are stored.\n",
    "output_folder = r\"E:\\Exp20\\resized\\deepest-inversed\" #where to store the resized images\n",
    "target_size = 200  # Set your desired target sizee\n",
    "\n",
    "# Ensure the output folder exists\n",
    "os.makedirs(output_folder, exist_ok=True)\n",
    "\n",
    "# Loop through each file in the input folder\n",
    "for filename in os.listdir(input_folder):\n",
    "    if filename.endswith(\".jpg\"):\n",
    "        # Create the full path to the input and output files\n",
    "        input_path = os.path.join(input_folder, filename)\n",
    "        output_path = os.path.join(output_folder, \"resized_\"+filename[7:-4]+\".png\")\n",
    "        # Resize the image and save the result\n",
    "        resize_and_invert_image(input_path, output_path, target_size)\n",
    "\n",
    "print(\"Resizing process finished.\")"
   ]
  },
  {
   "cell_type": "markdown",
   "id": "7e28d0df-5602-46d7-b1ff-715cceaf16f2",
   "metadata": {
    "jp-MarkdownHeadingCollapsed": true,
    "tags": []
   },
   "source": [
    "### Mask resize and inversion of color and edging"
   ]
  },
  {
   "cell_type": "code",
   "execution_count": null,
   "id": "95c7912b-3291-43b5-b887-77bb68c00b87",
   "metadata": {
    "tags": []
   },
   "outputs": [],
   "source": [
    "import cv2\n",
    "import os\n",
    "\n",
    "# Function to resize an image, invert colors, and extract edges of black areas\n",
    "def resize_invert_and_edge_image(input_path, output_path, target_size):\n",
    "    # Read the image\n",
    "    img = cv2.imread(input_path, cv2.IMREAD_GRAYSCALE)  # Ensure the image is read in grayscale mode\n",
    "    \n",
    "    # Get the original image dimensions\n",
    "    height, width = img.shape[:2]\n",
    "\n",
    "    # Calculate the aspect ratio\n",
    "    aspect_ratio = width / height\n",
    "\n",
    "    # Calculate the new dimensions based on the target size and aspect ratio\n",
    "    if aspect_ratio > 1:\n",
    "        new_width = target_size\n",
    "        new_height = int(target_size / aspect_ratio)\n",
    "    else:\n",
    "        new_width = int(target_size * aspect_ratio)\n",
    "        new_height = target_size\n",
    "\n",
    "    # Resize the image\n",
    "    resized_img = cv2.resize(img, (new_width, new_height), interpolation=cv2.INTER_NEAREST)\n",
    "    \n",
    "    # Invert the colors\n",
    "    inverted_img = 255 - resized_img\n",
    "\n",
    "    # Apply Canny edge detection\n",
    "    # Note: You may need to adjust the threshold values based on your specific images\n",
    "    edges = cv2.Canny(inverted_img, 0, 200)\n",
    "\n",
    "    # Save the image with edges\n",
    "    cv2.imwrite(output_path, edges)\n"
   ]
  },
  {
   "cell_type": "markdown",
   "id": "798f7a8c-4988-49ec-8fcb-8fb90e76ab01",
   "metadata": {},
   "source": [
    "#### HSV1 "
   ]
  },
  {
   "cell_type": "code",
   "execution_count": null,
   "id": "beb2b190-d8a5-45c1-8c62-c87985dfa202",
   "metadata": {},
   "outputs": [],
   "source": [
    "# Process all JPG files in the input folder\n",
    "input_folder = r\"E:\\Exp20\\masked\\deepest\" #where the original-size masked images are stored.\n",
    "output_folder = r\"E:\\Exp20\\resized\\deepest-03resized_edged\" #where to store the resized images\n",
    "target_size = 200  # Set your desired target size\n",
    "\n",
    "# Ensure the output folder exists\n",
    "os.makedirs(output_folder, exist_ok=True)\n",
    "\n",
    "# Loop through each file in the input folder\n",
    "for filename in os.listdir(input_folder):\n",
    "    if filename.endswith(\".jpg\"):\n",
    "        # Create the full path to the input and output files\n",
    "        input_path = os.path.join(input_folder, filename)\n",
    "        output_path = os.path.join(output_folder, \"resized_\"+filename[7:-4]+\".png\")\n",
    "        # Resize the image and save the result\n",
    "        resize_invert_and_edge_image(input_path, output_path, target_size)\n",
    "\n",
    "print(\"Resizing process finished.\")"
   ]
  },
  {
   "cell_type": "markdown",
   "id": "d88ac8d5-2bec-4c3e-bc86-784300f0c5f7",
   "metadata": {
    "jp-MarkdownHeadingCollapsed": true,
    "tags": []
   },
   "source": [
    "### Mask resize and inversion of color and edging and biggest blob"
   ]
  },
  {
   "cell_type": "code",
   "execution_count": null,
   "id": "ce034b85-5f10-473d-9c13-452da7bad72b",
   "metadata": {
    "tags": []
   },
   "outputs": [],
   "source": [
    "import cv2\n",
    "import numpy as np\n",
    "\n",
    "def resize_keep_largest_blob_invert_and_edge_image(input_path, output_path, target_size):\n",
    "    # Read the image in grayscale mode\n",
    "    img = cv2.imread(input_path, cv2.IMREAD_GRAYSCALE)\n",
    "    \n",
    "    # Get the original image dimensions\n",
    "    height, width = img.shape[:2]\n",
    "\n",
    "    # Calculate the aspect ratio\n",
    "    aspect_ratio = width / height\n",
    "\n",
    "    # Calculate the new dimensions based on the target size and aspect ratio\n",
    "    if aspect_ratio > 1:\n",
    "        new_width = target_size\n",
    "        new_height = int(target_size / aspect_ratio)\n",
    "    else:\n",
    "        new_width = int(target_size * aspect_ratio)\n",
    "        new_height = target_size\n",
    "\n",
    "    # Resize the image\n",
    "    resized_img = cv2.resize(img, (new_width, new_height), interpolation=cv2.INTER_NEAREST)\n",
    "\n",
    "    # Find all blobs\n",
    "    num_labels, labels_im = cv2.connectedComponents(resized_img)\n",
    "\n",
    "    # Keep only the largest blob (excluding the background blob at index 0)\n",
    "    if num_labels > 1:  # Ensure there is at least one blob plus background\n",
    "        blob_sizes = np.bincount(labels_im.flatten())[1:]  # Count sizes of each blob, excluding background\n",
    "        largest_blob_idx = np.argmax(blob_sizes) + 1  # Find the index of the largest blob (+1 to account for background being index 0)\n",
    "        largest_blob_mask = (labels_im == largest_blob_idx).astype(np.uint8) * 255\n",
    "\n",
    "        # Use the mask of the largest blob for further processing\n",
    "        processed_img = largest_blob_mask\n",
    "    else:\n",
    "        # If no blobs were found, proceed with the original image\n",
    "        processed_img = resized_img\n",
    "\n",
    "    # Invert the colors\n",
    "    inverted_img = 255 - processed_img\n",
    "\n",
    "    # Apply Canny edge detection\n",
    "    edges = cv2.Canny(inverted_img, 100, 200)\n",
    "\n",
    "    # Save the image with edges\n",
    "    cv2.imwrite(output_path, edges)\n"
   ]
  },
  {
   "cell_type": "markdown",
   "id": "a3e9ea52-3fd9-4d5f-933a-eb9ecba24f5a",
   "metadata": {},
   "source": [
    "#### HSV1 "
   ]
  },
  {
   "cell_type": "code",
   "execution_count": null,
   "id": "a0ef0e2b-4168-4b73-b4e2-24aba8a00848",
   "metadata": {
    "tags": []
   },
   "outputs": [],
   "source": [
    "# Process all JPG files in the input folder\n",
    "input_folder = r\"E:\\Exp20\\masked\\deepest\" #where the original-size masked images are stored.\n",
    "output_folder = r\"E:\\Exp20\\resized\\deepest-03resized_edged_bigblob\" #where to store the resized images\n",
    "\n",
    "target_size = 200  # Set your desired target size\n",
    "\n",
    "# Ensure the output folder exists\n",
    "os.makedirs(output_folder, exist_ok=True)\n",
    "\n",
    "# Loop through each file in the input folder\n",
    "for filename in os.listdir(input_folder):\n",
    "    if filename.endswith(\".jpg\"):\n",
    "        # Create the full path to the input and output files\n",
    "        input_path = os.path.join(input_folder, filename)\n",
    "        output_path = os.path.join(output_folder, \"resized_\"+filename[7:-4]+\".png\")\n",
    "        # Resize the image and save the result\n",
    "        resize_keep_largest_blob_invert_and_edge_image(input_path, output_path, target_size)\n",
    "\n",
    "print(\"Resizing process finished.\")"
   ]
  },
  {
   "cell_type": "markdown",
   "id": "0d5e0f42-7c12-454a-ab9d-1ef0984d25f8",
   "metadata": {
    "jp-MarkdownHeadingCollapsed": true,
    "tags": []
   },
   "source": [
    "### Mask resize and inversion of color and edging after removing smallest blobs"
   ]
  },
  {
   "cell_type": "code",
   "execution_count": null,
   "id": "5f8b13e2-713f-4ad5-9320-4ede0aa5619e",
   "metadata": {
    "tags": []
   },
   "outputs": [],
   "source": [
    "import cv2\n",
    "import numpy as np\n",
    "\n",
    "def resize_remove_small_blobs_invert_and_edge_image(input_path, output_path, target_size, size_threshold):\n",
    "    # Read the image in grayscale mode\n",
    "    img = cv2.imread(input_path, cv2.IMREAD_GRAYSCALE)\n",
    "    \n",
    "    # Get the original image dimensions\n",
    "    height, width = img.shape[:2]\n",
    "\n",
    "    # Calculate the aspect ratio\n",
    "    aspect_ratio = width / height\n",
    "\n",
    "    # Calculate the new dimensions based on the target size and aspect ratio\n",
    "    if aspect_ratio > 1:\n",
    "        new_width = target_size\n",
    "        new_height = int(target_size / aspect_ratio)\n",
    "    else:\n",
    "        new_width = int(target_size * aspect_ratio)\n",
    "        new_height = target_size\n",
    "\n",
    "    # Resize the image\n",
    "    resized_img = cv2.resize(img, (new_width, new_height), interpolation=cv2.INTER_NEAREST)\n",
    "\n",
    "    # Find all blobs and their stats\n",
    "    num_labels, labels_im, stats, _ = cv2.connectedComponentsWithStats(resized_img)\n",
    "\n",
    "    # Create an output image initialized to all zeros (black)\n",
    "    output_img = np.zeros_like(resized_img)\n",
    "\n",
    "    # Go through all blobs (excluding the background blob at index 0)\n",
    "    for i in range(1, num_labels):  # Start from 1 to skip background\n",
    "        if stats[i, cv2.CC_STAT_AREA] >= size_threshold:\n",
    "            # Add blob to output image if its size is above the threshold\n",
    "            output_img[labels_im == i] = 255\n",
    "\n",
    "    # Invert the colors\n",
    "    inverted_img = 255 - output_img\n",
    "\n",
    "    # Apply Canny edge detection\n",
    "    edges = cv2.Canny(inverted_img, 100, 200)\n",
    "\n",
    "    # Save the image with edges\n",
    "    cv2.imwrite(output_path, edges)\n"
   ]
  },
  {
   "cell_type": "markdown",
   "id": "cfb4b345-2e6b-4e10-a6a0-9d81b7a4bc2f",
   "metadata": {},
   "source": [
    "#### HSV1 "
   ]
  },
  {
   "cell_type": "code",
   "execution_count": null,
   "id": "fa49cc05-e06e-4987-801a-fcf46cffcee7",
   "metadata": {
    "tags": []
   },
   "outputs": [],
   "source": [
    "# Process all JPG files in the input folder\n",
    "\n",
    "input_folder = r\"D:\\LESO\\DATA_PROCESSED\\MPS\\Images\\Exp13\\HSV3_deepest\\02masked\" #where the original-size masked images are stored.\n",
    "output_folder = r\"D:\\LESO\\DATA_PROCESSED\\MPS\\Images\\Exp13\\HSV3_deepest\\03resized-newcode\" #where to store the resized images\n",
    "\n",
    "target_size = 200  # Set your desired target size\n",
    "\n",
    "# Ensure the output folder exists\n",
    "os.makedirs(output_folder, exist_ok=True)\n",
    "\n",
    "# Loop through each file in the input folder\n",
    "for filename in os.listdir(input_folder):\n",
    "    if filename.endswith(\".jpg\"):\n",
    "        # Create the full path to the input and output files\n",
    "        input_path = os.path.join(input_folder, filename)\n",
    "        output_path = os.path.join(output_folder, \"resized_\"+filename[7:-4]+\".png\")\n",
    "        # Resize the image and save the result\n",
    "        resize_remove_small_blobs_invert_and_edge_image(input_path, output_path, target_size, 20)\n",
    "\n",
    "print(\"Resizing process finished.\")"
   ]
  },
  {
   "cell_type": "markdown",
   "id": "a17fecff-ef80-4fc8-98e8-36b0d4683345",
   "metadata": {},
   "source": [
    "Move every other file to a new folder to reduce computation time."
   ]
  },
  {
   "cell_type": "code",
   "execution_count": null,
   "id": "bd0ea771-2406-4523-9ab9-55d4cd2a2757",
   "metadata": {
    "tags": []
   },
   "outputs": [],
   "source": [
    "import os\n",
    "import shutil\n",
    "\n",
    "def copy_every_other_file(source_folder, destination_folder):\n",
    "    # Create destination folder if it doesn't exist\n",
    "    if not os.path.exists(destination_folder):\n",
    "        os.makedirs(destination_folder)\n",
    "\n",
    "    # List all files in the source folder\n",
    "    files = sorted(os.listdir(source_folder))\n",
    "\n",
    "    # Copy every other file\n",
    "    for index, file_name in enumerate(files):\n",
    "        if index % 2 == 0:  # Change this to index % 2 != 0 if you want to copy the other set of files\n",
    "            source_file = os.path.join(source_folder, file_name)\n",
    "            destination_file = os.path.join(destination_folder, file_name)\n",
    "            if os.path.isfile(source_file):\n",
    "                shutil.copy(source_file, destination_file)\n",
    "                print(f\"Copied: {file_name}\")\n",
    "\n",
    "# Usage example\n",
    "source_folder = \"D:\\LESO\\DATA_PROCESSED\\MPS\\Images\\Exp13\\HSV3_deepest\\\\03resized-newcode\"\n",
    "destination_folder = \"D:\\LESO\\DATA_PROCESSED\\MPS\\Images\\Exp13\\HSV3_deepest\\\\03resized-newcode-selection\"\n",
    "copy_every_other_file(source_folder, destination_folder)\n"
   ]
  },
  {
   "cell_type": "markdown",
   "id": "cb1ef26b-8cab-4fb0-93ae-bc5ec06c8f19",
   "metadata": {
    "jp-MarkdownHeadingCollapsed": true,
    "tags": []
   },
   "source": [
    "### Mask resize after removing smallest blobs"
   ]
  },
  {
   "cell_type": "code",
   "execution_count": null,
   "id": "2197ed9d-4d4b-4da4-8648-75fc171a9e65",
   "metadata": {
    "tags": []
   },
   "outputs": [],
   "source": [
    "import cv2\n",
    "import numpy as np\n",
    "import os\n",
    "\n",
    "def resize_remove_small_blobs(input_path, output_path, target_size, size_threshold):\n",
    "    # Read the image in grayscale mode\n",
    "    img = cv2.imread(input_path, cv2.IMREAD_GRAYSCALE)\n",
    "    \n",
    "    # Get the original image dimensions\n",
    "    height, width = img.shape[:2]\n",
    "\n",
    "    # Calculate the aspect ratio\n",
    "    aspect_ratio = width / height\n",
    "\n",
    "    # Calculate the new dimensions based on the target size and aspect ratio\n",
    "    if aspect_ratio > 1:\n",
    "        new_width = target_size\n",
    "        new_height = int(target_size / aspect_ratio)\n",
    "    else:\n",
    "        new_width = int(target_size * aspect_ratio)\n",
    "        new_height = target_size\n",
    "\n",
    "    # Resize the image\n",
    "    resized_img = cv2.resize(img, (new_width, new_height), interpolation=cv2.INTER_NEAREST)\n",
    "\n",
    "    # Find all blobs and their stats\n",
    "    num_labels, labels_im, stats, _ = cv2.connectedComponentsWithStats(resized_img)\n",
    "\n",
    "    # Create an output image initialized to all zeros (black)\n",
    "    output_img = np.zeros_like(resized_img)\n",
    "\n",
    "    # Go through all blobs (excluding the background blob at index 0)\n",
    "    for i in range(1, num_labels):  # Start from 1 to skip background\n",
    "        if stats[i, cv2.CC_STAT_AREA] >= size_threshold:\n",
    "            # Add blob to output image if its size is above the threshold\n",
    "            output_img[labels_im == i] = 255\n",
    "\n",
    "    # Save the image with edges\n",
    "    cv2.imwrite(output_path, output_img)\n"
   ]
  },
  {
   "cell_type": "code",
   "execution_count": null,
   "id": "390ba126-44a5-4777-8d89-fbebad3516be",
   "metadata": {
    "tags": []
   },
   "outputs": [],
   "source": [
    "# Process all JPG files in the input folde\n",
    "input_folder = r\"D:\\LESO\\DATA_PROCESSED\\MPS\\Images\\Exp13\\HSV3_deepest\\02masked\" #where the original-size masked images are stored.\n",
    "output_folder = r\"D:\\LESO\\DATA_PROCESSED\\MPS\\Images\\Exp13\\HSV3_deepest\\03resized-newcode\" #where to store the resized images\n",
    "\n",
    "#output_folder = r\"D:\\LESO\\DATA_RAW\\Experiment13_20240301\\deepest-03resized_removedBlobs-inversed\"\n",
    "target_size = 200  # Set your desired target size\n",
    "size_threshold = 20\n",
    "\n",
    "# Ensure the output folder exists\n",
    "os.makedirs(output_folder, exist_ok=True)\n",
    "\n",
    "# Loop through each file in the input folder\n",
    "for filename in os.listdir(input_folder):\n",
    "    if filename.endswith(\".jpg\"):\n",
    "        # Create the full path to the input and output files\n",
    "        input_path = os.path.join(input_folder, filename)\n",
    "        output_path = os.path.join(output_folder, \"resized_\"+filename[7:-4]+\".png\")\n",
    "        # Resize the image and save the result\n",
    "        resize_remove_small_blobs(input_path, output_path, target_size, size_threshold)\n",
    "\n",
    "print(\"Resizing process finished.\")"
   ]
  },
  {
   "cell_type": "code",
   "execution_count": null,
   "id": "a39e7060-9065-4b95-906c-9d1d6915fbef",
   "metadata": {},
   "outputs": [],
   "source": []
  }
 ],
 "metadata": {
  "kernelspec": {
   "display_name": "Python 3 (ipykernel)",
   "language": "python",
   "name": "python3"
  },
  "language_info": {
   "codemirror_mode": {
    "name": "ipython",
    "version": 3
   },
   "file_extension": ".py",
   "mimetype": "text/x-python",
   "name": "python",
   "nbconvert_exporter": "python",
   "pygments_lexer": "ipython3",
   "version": "3.8.17"
  }
 },
 "nbformat": 4,
 "nbformat_minor": 5
}
