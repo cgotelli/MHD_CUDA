{
 "cells": [
  {
   "cell_type": "markdown",
   "id": "0c1e7edc-909b-4853-ab30-b69543f74a15",
   "metadata": {},
   "source": [
    "# Copy one file every X \n"
   ]
  },
  {
   "cell_type": "code",
   "execution_count": 4,
   "id": "3dc14ac4-0742-4bdc-992d-f2c885d7b0ac",
   "metadata": {
    "tags": []
   },
   "outputs": [
    {
     "name": "stdout",
     "output_type": "stream",
     "text": [
      "Proceso completado.\n"
     ]
    }
   ],
   "source": [
    "import os\n",
    "import shutil\n",
    "\n",
    "# Parámetros\n",
    "source_folder = 'E:/Exp20/resized/deepest-03resized_edged_removedBlobs'  # Ruta de la carpeta de origen\n",
    "destination_folder = 'E:/Exp20/OPTdeepest_every10'  # Ruta de la carpeta de destino\n",
    "x = 10  # Número X de imágenes para seleccionar 1\n",
    "\n",
    "# Crear la carpeta de destino si no existe\n",
    "if not os.path.exists(destination_folder):\n",
    "    os.makedirs(destination_folder)\n",
    "\n",
    "# Obtener la lista de archivos en la carpeta de origen y ordenarlos alfabéticamente\n",
    "files = sorted(os.listdir(source_folder))\n",
    "\n",
    "# Filtrar solo los archivos que son imágenes (opcional)\n",
    "image_extensions = ['.jpg', '.jpeg', '.png', '.gif', '.bmp', '.tiff']\n",
    "images = [f for f in files if os.path.splitext(f)[1].lower() in image_extensions]\n",
    "\n",
    "# Copiar 1 cada X imágenes\n",
    "for index, image in enumerate(images):\n",
    "    if index % x == 0:\n",
    "        src_path = os.path.join(source_folder, image)\n",
    "        dest_path = os.path.join(destination_folder, image)\n",
    "        shutil.copy2(src_path, dest_path)\n",
    "        #print(f\"Imagen '{image}' copiada a la carpeta de destino.\")\n",
    "\n",
    "print(\"Proceso completado.\")\n"
   ]
  },
  {
   "cell_type": "code",
   "execution_count": null,
   "id": "0e72985e-a2bb-49d4-867d-89d8a27b4b02",
   "metadata": {},
   "outputs": [],
   "source": []
  }
 ],
 "metadata": {
  "kernelspec": {
   "display_name": "Python 3 (ipykernel)",
   "language": "python",
   "name": "python3"
  },
  "language_info": {
   "codemirror_mode": {
    "name": "ipython",
    "version": 3
   },
   "file_extension": ".py",
   "mimetype": "text/x-python",
   "name": "python",
   "nbconvert_exporter": "python",
   "pygments_lexer": "ipython3",
   "version": "3.8.17"
  }
 },
 "nbformat": 4,
 "nbformat_minor": 5
}
